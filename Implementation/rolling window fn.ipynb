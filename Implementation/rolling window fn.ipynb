{
 "cells": [
  {
   "cell_type": "markdown",
   "id": "velvet-soccer",
   "metadata": {},
   "source": [
    "## Rolling Window- Sam's Attempt\n",
    "\n",
    "March 21, 2021"
   ]
  },
  {
   "cell_type": "code",
   "execution_count": 3,
   "id": "super-investor",
   "metadata": {},
   "outputs": [],
   "source": [
    "import numpy as np\n",
    "\n",
    "#Need initial data setup:\n",
    "#take test set, create new matrix with the rows: each additional quarter; colums each model. \n",
    "preds = np.empty((100, 7))\n",
    "\n",
    "def rolling(data, nahead):\n",
    "    "
   ]
  },
  {
   "cell_type": "code",
   "execution_count": null,
   "id": "going-quebec",
   "metadata": {},
   "outputs": [],
   "source": []
  }
 ],
 "metadata": {
  "kernelspec": {
   "display_name": "Python 3",
   "language": "python",
   "name": "python3"
  },
  "language_info": {
   "codemirror_mode": {
    "name": "ipython",
    "version": 3
   },
   "file_extension": ".py",
   "mimetype": "text/x-python",
   "name": "python",
   "nbconvert_exporter": "python",
   "pygments_lexer": "ipython3",
   "version": "3.7.9"
  }
 },
 "nbformat": 4,
 "nbformat_minor": 5
}
