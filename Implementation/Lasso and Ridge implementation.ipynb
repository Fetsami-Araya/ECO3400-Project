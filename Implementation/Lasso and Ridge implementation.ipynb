{
 "cells": [
  {
   "cell_type": "markdown",
   "id": "talented-berkeley",
   "metadata": {},
   "source": [
    "## Lasso and Spline Implementation\n",
    "\n",
    "-Sam Kirsh, March 20, 2021 //\n",
    "ECO3400"
   ]
  },
  {
   "cell_type": "code",
   "execution_count": 3,
   "id": "geological-frontier",
   "metadata": {},
   "outputs": [
    {
     "ename": "NameError",
     "evalue": "name 'data' is not defined",
     "output_type": "error",
     "traceback": [
      "\u001b[1;31m---------------------------------------------------------------------------\u001b[0m",
      "\u001b[1;31mNameError\u001b[0m                                 Traceback (most recent call last)",
      "\u001b[1;32m<ipython-input-3-5c012c3770e8>\u001b[0m in \u001b[0;36m<module>\u001b[1;34m\u001b[0m\n\u001b[0;32m     13\u001b[0m \u001b[1;33m\u001b[0m\u001b[0m\n\u001b[0;32m     14\u001b[0m \u001b[1;31m#Evaluate by scoring the cross validation:\u001b[0m\u001b[1;33m\u001b[0m\u001b[1;33m\u001b[0m\u001b[1;33m\u001b[0m\u001b[0m\n\u001b[1;32m---> 15\u001b[1;33m \u001b[0mlasso_score\u001b[0m \u001b[1;33m=\u001b[0m \u001b[0mcross_val_score\u001b[0m\u001b[1;33m(\u001b[0m\u001b[0mlassomod\u001b[0m\u001b[1;33m,\u001b[0m \u001b[0mdata\u001b[0m\u001b[1;33m(\u001b[0m\u001b[0mx\u001b[0m\u001b[1;33m)\u001b[0m\u001b[1;33m,\u001b[0m \u001b[0mdata\u001b[0m\u001b[1;33m(\u001b[0m\u001b[0my\u001b[0m\u001b[1;33m)\u001b[0m\u001b[1;33m,\u001b[0m \u001b[0mscoring\u001b[0m \u001b[1;33m=\u001b[0m \u001b[1;34m'neg_mean_absolute_error'\u001b[0m\u001b[1;33m,\u001b[0m \u001b[0mcv\u001b[0m \u001b[1;33m=\u001b[0m \u001b[0mlassocrossval\u001b[0m\u001b[1;33m,\u001b[0m \u001b[0mn_jobs\u001b[0m \u001b[1;33m=\u001b[0m \u001b[1;33m-\u001b[0m\u001b[1;36m1\u001b[0m\u001b[1;33m)\u001b[0m\u001b[1;33m\u001b[0m\u001b[1;33m\u001b[0m\u001b[0m\n\u001b[0m\u001b[0;32m     16\u001b[0m \u001b[1;33m\u001b[0m\u001b[0m\n\u001b[0;32m     17\u001b[0m \u001b[1;31m#Do we need to force scores positive?\u001b[0m\u001b[1;33m\u001b[0m\u001b[1;33m\u001b[0m\u001b[1;33m\u001b[0m\u001b[0m\n",
      "\u001b[1;31mNameError\u001b[0m: name 'data' is not defined"
     ]
    }
   ],
   "source": [
    "#Import necessary libraries\n",
    "from matplotlib import pyplot\n",
    "from sklearn.linear_model import Lasso\n",
    "from sklearn.model_selection import cross_val_score\n",
    "from sklearn.model_selection import RepeatedKFold\n",
    "from sklearn.model_selection import GridSearchCV #Can use these last three functions for both Ridge and\n",
    "\n",
    "#Now, define the model\n",
    "lassomod = Lasso(1.0) #1.0 is just an example value of alpha.\n",
    "\n",
    "def lasso(alpha, X, y):\n",
    "    return lassomod = Lasso().fit(X,y)\n",
    "\n",
    "\n",
    "#Need to tune the model by cross validation -- important to note that we need to partition the data appropriately.\n",
    "#In this case we should conduct CV with a training, validation set. Of total data length of ~7000 series, take 750 for CV. \n",
    "lassocrossval = RepeatedKFold(n_splits = 10, n_repeats=3)\n",
    "\n",
    "#Search for hyperparameter via grid search\n",
    "#CV for hyperparameter\n",
    "grid = dict() \n",
    "grid['alpha'] = arange(0,1,0.01) #Use dictionary structure for alphas; \n",
    "#Use GridSearchCV\n",
    "(ridgemod, grid, scoring = 'neg_mean_absolute_error', n_jobs = -1)\n",
    "\n",
    "\n",
    "#Evaluate by scoring the cross validation:\n",
    "lasso_score = cross_val_score(lassomod, data(x), data(y), scoring = 'neg_mean_absolute_error', cv = lassocrossval, n_jobs = -1)\n",
    "\n",
    "#Do we need to force scores positive?\n",
    "#In any case, print them out\n",
    "print(lasso_score)\n"
   ]
  },
  {
   "cell_type": "code",
   "execution_count": null,
   "id": "present-recipient",
   "metadata": {},
   "outputs": [],
   "source": [
    "#For the spline regression, import necessary libraries\n",
    "from sklearn.linear_model import Ridge\n",
    "#Thankfully already have the other functions from the previous panel\n",
    "\n",
    "#Specify Ridge model\n",
    "ridgemod = Ridge()\n",
    "\n",
    "#Run cross validation\n",
    "ridge_crossval = RepeatedKFold(n_splits = 10, n_repeats = 3)\n",
    "\n",
    "#CV for hyperparameter\n",
    "grid = dict() \n",
    "grid['alpha'] = arange(0,1,0.01) #Use dictionary structure for alphas; \n",
    "#Use GridSearchCV\n",
    "GridSearchCV(ridgemod, grid, scoring = 'neg_mean_absolute_error', cv = ridge_crossval, n_jobs = -1)\n",
    "\n",
    "#Ridge search\n",
    "ridge_grid = search.fit(Data(x), data(y)) #We would have already separated our data here into their proper structure. \n",
    "#Now that we have tuned the hyperparameter (if this is indeed the correct order) score the Ridge model\n"
   ]
  }
 ],
 "metadata": {
  "kernelspec": {
   "display_name": "Python 3",
   "language": "python",
   "name": "python3"
  },
  "language_info": {
   "codemirror_mode": {
    "name": "ipython",
    "version": 3
   },
   "file_extension": ".py",
   "mimetype": "text/x-python",
   "name": "python",
   "nbconvert_exporter": "python",
   "pygments_lexer": "ipython3",
   "version": "3.7.9"
  }
 },
 "nbformat": 4,
 "nbformat_minor": 5
}
