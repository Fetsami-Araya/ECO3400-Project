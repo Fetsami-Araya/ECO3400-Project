{
 "cells": [
  {
   "cell_type": "markdown",
   "id": "respective-drama",
   "metadata": {},
   "source": [
    "## Rolling Window- Sam's Attempt\n",
    "\n",
    "March 21, 2021"
   ]
  },
  {
   "cell_type": "code",
   "execution_count": null,
   "id": "strategic-durham",
   "metadata": {},
   "outputs": [],
   "source": [
    "import numpy as np\n",
    "\n",
    "#Need initial data setup:\n",
    "#take test set, create new matrix with the rows: each additional quarter; colums each model. \n",
    "preds = np.asarray()"
   ]
  }
 ],
 "metadata": {
  "kernelspec": {
   "display_name": "Python 3",
   "language": "python",
   "name": "python3"
  },
  "language_info": {
   "codemirror_mode": {
    "name": "ipython",
    "version": 3
   },
   "file_extension": ".py",
   "mimetype": "text/x-python",
   "name": "python",
   "nbconvert_exporter": "python",
   "pygments_lexer": "ipython3",
   "version": "3.7.9"
  }
 },
 "nbformat": 4,
 "nbformat_minor": 5
}
