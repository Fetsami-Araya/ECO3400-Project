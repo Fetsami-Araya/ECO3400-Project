{
 "cells": [
  {
   "cell_type": "markdown",
   "id": "velvet-soccer",
   "metadata": {},
   "source": [
    "## Rolling Window- Sam's Attempt\n",
    "\n",
    "March 21, 2021"
   ]
  },
  {
   "cell_type": "code",
   "execution_count": 27,
   "id": "super-investor",
   "metadata": {},
   "outputs": [
    {
     "ename": "SyntaxError",
     "evalue": "invalid syntax (<ipython-input-27-e16f15b9d18f>, line 11)",
     "output_type": "error",
     "traceback": [
      "\u001b[1;36m  File \u001b[1;32m\"<ipython-input-27-e16f15b9d18f>\"\u001b[1;36m, line \u001b[1;32m11\u001b[0m\n\u001b[1;33m    X = data.values[]\u001b[0m\n\u001b[1;37m                    ^\u001b[0m\n\u001b[1;31mSyntaxError\u001b[0m\u001b[1;31m:\u001b[0m invalid syntax\n"
     ]
    }
   ],
   "source": [
    "import numpy as np\n",
    "from pandas import read_csv\n",
    "from sklearn.linear_model import Lasso\n",
    "import os\n",
    "os.chdir('C:\\\\Users\\\\Sam Kirsh\\\\ECO3400-Project\\\\data')\n",
    "#Need initial data setup: need just the training (?) data\n",
    "#Prior to starting function, need to specify optimal window length\n",
    "#Keep simple by using vector of predictions-- then just repeat for each model\n",
    "\n",
    "data = read_csv('master_data_og.csv', header = 0, index_col=0)\n",
    "X = data.values\n",
    "trainx, testx = X[0:-16000], X[-16001:]\n",
    "trainy, testy = y[0:-16000], y[-16001:]\n",
    "rmse_vec = () #initialize empty vector for storing the RMSEs of each forecast\n",
    "w_sizes = range(1,8) #For dealing with quarterly data, not expecting anything beyond a 2 year horizon to be \n",
    "#helpful for forecasting\n",
    "\n",
    "\n",
    "def rolling(testset,trainset, windows, modelfn):\n",
    "    for w in windows:\n",
    "        hist = [x for x in train] #because we are looping over the training data\n",
    "        pred = list() #initialize predictions vector that we append\n",
    "        for t in range(len(test)): #use length of test to compare predictions!\n",
    "            ys = modelfn(alpha, X[-w:], y[-w:]) #apply lasso on window w\n",
    "            pred.append(ys) #add to prediction vector\n",
    "            hist.append(test[t]) #need both the prediction and observation to calculate rmse\n",
    "            \n",
    "        "
   ]
  },
  {
   "cell_type": "code",
   "execution_count": 26,
   "id": "going-quebec",
   "metadata": {},
   "outputs": [
    {
     "ename": "NameError",
     "evalue": "name 'alpha' is not defined",
     "output_type": "error",
     "traceback": [
      "\u001b[1;31m---------------------------------------------------------------------------\u001b[0m",
      "\u001b[1;31mNameError\u001b[0m                                 Traceback (most recent call last)",
      "\u001b[1;32m<ipython-input-26-92e9ff3ac98d>\u001b[0m in \u001b[0;36m<module>\u001b[1;34m\u001b[0m\n\u001b[1;32m----> 1\u001b[1;33m \u001b[0mrolling\u001b[0m\u001b[1;33m(\u001b[0m\u001b[0mtrain\u001b[0m\u001b[1;33m,\u001b[0m \u001b[0mtest\u001b[0m\u001b[1;33m,\u001b[0m \u001b[0mw_sizes\u001b[0m\u001b[1;33m,\u001b[0m \u001b[0mlassomod\u001b[0m\u001b[1;33m)\u001b[0m\u001b[1;33m\u001b[0m\u001b[1;33m\u001b[0m\u001b[0m\n\u001b[0m",
      "\u001b[1;32m<ipython-input-25-700912909207>\u001b[0m in \u001b[0;36mrolling\u001b[1;34m(testset, trainset, windows, modelfn)\u001b[0m\n\u001b[0;32m     23\u001b[0m         \u001b[0mpred\u001b[0m \u001b[1;33m=\u001b[0m \u001b[0mlist\u001b[0m\u001b[1;33m(\u001b[0m\u001b[1;33m)\u001b[0m \u001b[1;31m#initialize predictions vector that we append\u001b[0m\u001b[1;33m\u001b[0m\u001b[1;33m\u001b[0m\u001b[0m\n\u001b[0;32m     24\u001b[0m         \u001b[1;32mfor\u001b[0m \u001b[0mt\u001b[0m \u001b[1;32min\u001b[0m \u001b[0mrange\u001b[0m\u001b[1;33m(\u001b[0m\u001b[0mlen\u001b[0m\u001b[1;33m(\u001b[0m\u001b[0mtest\u001b[0m\u001b[1;33m)\u001b[0m\u001b[1;33m)\u001b[0m\u001b[1;33m:\u001b[0m \u001b[1;31m#use length of test to compare predictions!\u001b[0m\u001b[1;33m\u001b[0m\u001b[1;33m\u001b[0m\u001b[0m\n\u001b[1;32m---> 25\u001b[1;33m             \u001b[0mys\u001b[0m \u001b[1;33m=\u001b[0m \u001b[0mmodelfn\u001b[0m\u001b[1;33m(\u001b[0m\u001b[0malpha\u001b[0m\u001b[1;33m,\u001b[0m \u001b[0mX\u001b[0m\u001b[1;33m[\u001b[0m\u001b[1;33m-\u001b[0m\u001b[0mw\u001b[0m\u001b[1;33m:\u001b[0m\u001b[1;33m]\u001b[0m\u001b[1;33m,\u001b[0m \u001b[0my\u001b[0m\u001b[1;33m[\u001b[0m\u001b[1;33m-\u001b[0m\u001b[0mw\u001b[0m\u001b[1;33m:\u001b[0m\u001b[1;33m]\u001b[0m\u001b[1;33m)\u001b[0m \u001b[1;31m#apply lasso on window w\u001b[0m\u001b[1;33m\u001b[0m\u001b[1;33m\u001b[0m\u001b[0m\n\u001b[0m\u001b[0;32m     26\u001b[0m             \u001b[0mpred\u001b[0m\u001b[1;33m.\u001b[0m\u001b[0mappend\u001b[0m\u001b[1;33m(\u001b[0m\u001b[0mys\u001b[0m\u001b[1;33m)\u001b[0m \u001b[1;31m#add to prediction vector\u001b[0m\u001b[1;33m\u001b[0m\u001b[1;33m\u001b[0m\u001b[0m\n\u001b[0;32m     27\u001b[0m             \u001b[0mhist\u001b[0m\u001b[1;33m.\u001b[0m\u001b[0mappend\u001b[0m\u001b[1;33m(\u001b[0m\u001b[0mtest\u001b[0m\u001b[1;33m[\u001b[0m\u001b[0mt\u001b[0m\u001b[1;33m]\u001b[0m\u001b[1;33m)\u001b[0m \u001b[1;31m#need both the prediction and observation to calculate rmse\u001b[0m\u001b[1;33m\u001b[0m\u001b[1;33m\u001b[0m\u001b[0m\n",
      "\u001b[1;31mNameError\u001b[0m: name 'alpha' is not defined"
     ]
    }
   ],
   "source": [
    "#Let's see if it works\n",
    "lassomod = Lasso(1.0)\n",
    "\n",
    "def lasso(alpha, X, y):\n",
    "    return lassomod = Lasso().fit(X,y)\n",
    "\n",
    "rolling(train, test, w_sizes, lassomod)"
   ]
  },
  {
   "cell_type": "code",
   "execution_count": null,
   "id": "focal-wonder",
   "metadata": {},
   "outputs": [],
   "source": []
  }
 ],
 "metadata": {
  "kernelspec": {
   "display_name": "Python 3",
   "language": "python",
   "name": "python3"
  },
  "language_info": {
   "codemirror_mode": {
    "name": "ipython",
    "version": 3
   },
   "file_extension": ".py",
   "mimetype": "text/x-python",
   "name": "python",
   "nbconvert_exporter": "python",
   "pygments_lexer": "ipython3",
   "version": "3.7.9"
  }
 },
 "nbformat": 4,
 "nbformat_minor": 5
}
